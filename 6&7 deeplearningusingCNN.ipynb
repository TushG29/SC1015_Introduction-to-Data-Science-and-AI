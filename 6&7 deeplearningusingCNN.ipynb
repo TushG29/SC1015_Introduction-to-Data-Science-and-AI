{
 "cells": [
  {
   "cell_type": "code",
   "execution_count": 1,
   "metadata": {},
   "outputs": [],
   "source": [
    "import numpy as np\n",
    "import os\n",
    "import PIL as Image\n",
    "from PIL import ImageFile\n",
    "ImageFile.LOAD_TRUNCATED_IMAGES = True\n",
    "import tensorflow.keras\n",
    "from tensorflow.keras.layers import Conv2D, MaxPooling2D, Flatten, Dense\n",
    "from tensorflow.keras.models import Sequential\n",
    "from tensorflow.keras.preprocessing.image import ImageDataGenerator, load_img\n",
    "from sklearn.metrics import confusion_matrix, classification_report\n",
    "import tensorflow"
   ]
  },
  {
   "cell_type": "code",
   "execution_count": 90,
   "metadata": {},
   "outputs": [],
   "source": [
    "import splitfolders\n",
    "from tensorflow.keras import layers\n",
    "from tensorflow import keras"
   ]
  },
  {
   "cell_type": "code",
   "execution_count": 156,
   "metadata": {},
   "outputs": [],
   "source": [
    "input_folder = \"/Users/viralmehta/Downloads/CellData/chest_xray\"\n",
    "output = \"/Users/viralmehta/Downloads/CellData/chest_xraynew\"\n",
    "\n",
    "splitfolders.ratio(input_folder, output, ratio=(.75, .10, .15))"
   ]
  },
  {
   "cell_type": "code",
   "execution_count": 157,
   "metadata": {},
   "outputs": [],
   "source": [
    "train_folder= '/Users/viralmehta/Downloads/CellData/chest_xraynew/train'\n",
    "#train_folder= '/Users/Razor56M/Downloads/output_american/train'\n",
    "\n",
    "test_folder= '/Users/viralmehta/Downloads/CellData/chest_xraynew/test'\n",
    "#test_folder= '/Users/Razor56M/Downloads/output_american/test'\n",
    "\n",
    "val_folder= '/Users/viralmehta/Downloads/CellData/chest_xraynew/val'"
   ]
  },
  {
   "cell_type": "code",
   "execution_count": 158,
   "metadata": {},
   "outputs": [],
   "source": [
    "batch= 32\n",
    "#133: 10 epochs: 0.3842\n",
    "image_input= (224, 224)"
   ]
  },
  {
   "cell_type": "code",
   "execution_count": 159,
   "metadata": {},
   "outputs": [],
   "source": [
    "train_datagen = ImageDataGenerator(rescale=1./255, zoom_range = 0.1,\n",
    "                                  width_shift_range = 0.1,\n",
    "                                  height_shift_range = 0.1)\n",
    "test_datagen= ImageDataGenerator(rescale=1./255)\n"
   ]
  },
  {
   "cell_type": "code",
   "execution_count": null,
   "metadata": {},
   "outputs": [],
   "source": [
    "training_set= train_datagen.flow_from_directory(train_folder, \n",
    "                                                target_size=image_input, \n",
    "                                                batch_size=batch, \n",
    "                                                class_mode= 'binary')\n",
    "\n",
    "test_set= test_datagen.flow_from_directory(test_folder, \n",
    "                                           target_size=image_input, \n",
    "                                           batch_size=1, \n",
    "                                           class_mode= 'binary',\n",
    "                                           shuffle = False)\n",
    "\n",
    "val= test_datagen.flow_from_directory(val_folder, \n",
    "                                           target_size=image_input, \n",
    "                                           batch_size=batch, \n",
    "                                           class_mode= 'binary')"
   ]
  },
  {
   "cell_type": "code",
   "execution_count": 165,
   "metadata": {},
   "outputs": [],
   "source": [
    "\n",
    "base_model = tensorflow.keras.applications.ResNet152V2(\n",
    "    weights='imagenet',\n",
    "    input_shape=(224, 224, 1),\n",
    "    include_top=False)\n",
    "\n",
    "base_model.trainable = False\n",
    "\n",
    "def get_pretrained():\n",
    "    \n",
    "    #Input shape = [width, height, color channels]\n",
    "    inputs = layers.Input(shape=(224, 224, 1))\n",
    "    \n",
    "    x = base_model(inputs)\n",
    "\n",
    "    # Head\n",
    "    x = layers.GlobalAveragePooling2D()(x)\n",
    "    x = layers.Dense(128, activation='relu')(x)\n",
    "    x = layers.Dropout(0.1)(x)\n",
    "    \n",
    "    #Final Layer (Output)\n",
    "    output = layers.Dense(1, activation='sigmoid')(x)\n",
    "    \n",
    "    model = keras.Model(inputs=[inputs], outputs=output)\n",
    "    \n",
    "    return model"
   ]
  },
  {
   "cell_type": "code",
   "execution_count": 166,
   "metadata": {},
   "outputs": [
    {
     "name": "stdout",
     "output_type": "stream",
     "text": [
      "Model: \"model\"\n",
      "_________________________________________________________________\n",
      " Layer (type)                Output Shape              Param #   \n",
      "=================================================================\n",
      " input_1 (InputLayer)        [(None, 224, 224, 3)]     0         \n",
      "                                                                 \n",
      " resnet152v2 (Functional)    (None, 7, 7, 2048)        58331648  \n",
      "                                                                 \n",
      " global_average_pooling2d (G  (None, 2048)             0         \n",
      " lobalAveragePooling2D)                                          \n",
      "                                                                 \n",
      " dense (Dense)               (None, 128)               262272    \n",
      "                                                                 \n",
      " dropout (Dropout)           (None, 128)               0         \n",
      "                                                                 \n",
      " dense_1 (Dense)             (None, 1)                 129       \n",
      "                                                                 \n",
      "=================================================================\n",
      "Total params: 58,594,049\n",
      "Trainable params: 262,401\n",
      "Non-trainable params: 58,331,648\n",
      "_________________________________________________________________\n"
     ]
    }
   ],
   "source": [
    "classifier = get_pretrained()\n",
    "classifier.compile(optimizer = keras.optimizers.Adam(learning_rate=5e-5), loss = 'binary_crossentropy', metrics = ['binary_accuracy'])\n",
    "classifier.summary()"
   ]
  },
  {
   "cell_type": "code",
   "execution_count": 167,
   "metadata": {},
   "outputs": [
    {
     "name": "stdout",
     "output_type": "stream",
     "text": [
      "Epoch 1/20\n",
      "130/130 [==============================] - 177s 1s/step - loss: 0.3975 - binary_accuracy: 0.8286 - val_loss: 0.2211 - val_binary_accuracy: 0.9258 - lr: 5.0000e-05\n",
      "Epoch 2/20\n",
      "130/130 [==============================] - 180s 1s/step - loss: 0.2080 - binary_accuracy: 0.9200 - val_loss: 0.1544 - val_binary_accuracy: 0.9443 - lr: 5.0000e-05\n",
      "Epoch 3/20\n",
      "130/130 [==============================] - 178s 1s/step - loss: 0.1729 - binary_accuracy: 0.9376 - val_loss: 0.1509 - val_binary_accuracy: 0.9473 - lr: 5.0000e-05\n",
      "Epoch 4/20\n",
      "130/130 [==============================] - 187s 1s/step - loss: 0.1468 - binary_accuracy: 0.9456 - val_loss: 0.1319 - val_binary_accuracy: 0.9551 - lr: 5.0000e-05\n",
      "Epoch 5/20\n",
      "130/130 [==============================] - 191s 1s/step - loss: 0.1408 - binary_accuracy: 0.9488 - val_loss: 0.1242 - val_binary_accuracy: 0.9580 - lr: 5.0000e-05\n",
      "Epoch 6/20\n",
      "130/130 [==============================] - 183s 1s/step - loss: 0.1243 - binary_accuracy: 0.9570 - val_loss: 0.1353 - val_binary_accuracy: 0.9531 - lr: 5.0000e-05\n",
      "Epoch 7/20\n",
      "130/130 [==============================] - 181s 1s/step - loss: 0.1217 - binary_accuracy: 0.9526 - val_loss: 0.1083 - val_binary_accuracy: 0.9658 - lr: 5.0000e-05\n",
      "Epoch 8/20\n",
      "130/130 [==============================] - 193s 1s/step - loss: 0.1166 - binary_accuracy: 0.9550 - val_loss: 0.1016 - val_binary_accuracy: 0.9658 - lr: 5.0000e-05\n",
      "Epoch 9/20\n",
      "130/130 [==============================] - 193s 1s/step - loss: 0.1114 - binary_accuracy: 0.9582 - val_loss: 0.1018 - val_binary_accuracy: 0.9648 - lr: 5.0000e-05\n",
      "Epoch 10/20\n",
      "130/130 [==============================] - ETA: 0s - loss: 0.1034 - binary_accuracy: 0.9604\n",
      "Epoch 10: ReduceLROnPlateau reducing learning rate to 9.999999747378752e-06.\n",
      "130/130 [==============================] - 195s 2s/step - loss: 0.1034 - binary_accuracy: 0.9604 - val_loss: 0.1060 - val_binary_accuracy: 0.9639 - lr: 5.0000e-05\n",
      "Epoch 11/20\n",
      "130/130 [==============================] - 194s 1s/step - loss: 0.1039 - binary_accuracy: 0.9640 - val_loss: 0.0977 - val_binary_accuracy: 0.9658 - lr: 1.0000e-05\n",
      "Epoch 12/20\n",
      "130/130 [==============================] - 196s 2s/step - loss: 0.1027 - binary_accuracy: 0.9620 - val_loss: 0.0969 - val_binary_accuracy: 0.9658 - lr: 1.0000e-05\n",
      "Epoch 13/20\n",
      "130/130 [==============================] - 203s 2s/step - loss: 0.1069 - binary_accuracy: 0.9649 - val_loss: 0.0954 - val_binary_accuracy: 0.9668 - lr: 1.0000e-05\n",
      "Epoch 14/20\n",
      "130/130 [==============================] - 196s 2s/step - loss: 0.1027 - binary_accuracy: 0.9652 - val_loss: 0.0943 - val_binary_accuracy: 0.9658 - lr: 1.0000e-05\n",
      "Epoch 15/20\n",
      "130/130 [==============================] - 196s 2s/step - loss: 0.1043 - binary_accuracy: 0.9628 - val_loss: 0.0992 - val_binary_accuracy: 0.9639 - lr: 1.0000e-05\n",
      "Epoch 16/20\n",
      "130/130 [==============================] - 197s 2s/step - loss: 0.1010 - binary_accuracy: 0.9618 - val_loss: 0.0915 - val_binary_accuracy: 0.9717 - lr: 1.0000e-05\n",
      "Epoch 17/20\n",
      "130/130 [==============================] - 197s 2s/step - loss: 0.1019 - binary_accuracy: 0.9635 - val_loss: 0.0973 - val_binary_accuracy: 0.9648 - lr: 1.0000e-05\n",
      "Epoch 18/20\n",
      "130/130 [==============================] - 200s 2s/step - loss: 0.1059 - binary_accuracy: 0.9623 - val_loss: 0.0914 - val_binary_accuracy: 0.9707 - lr: 1.0000e-05\n",
      "Epoch 19/20\n",
      "130/130 [==============================] - 226s 2s/step - loss: 0.1007 - binary_accuracy: 0.9657 - val_loss: 0.0964 - val_binary_accuracy: 0.9668 - lr: 1.0000e-05\n",
      "Epoch 20/20\n",
      "130/130 [==============================] - 200s 2s/step - loss: 0.0975 - binary_accuracy: 0.9671 - val_loss: 0.0912 - val_binary_accuracy: 0.9678 - lr: 1.0000e-05\n"
     ]
    }
   ],
   "source": [
    "history = classifier.fit(training_set,\n",
    "          batch_size = batch, epochs = 20,\n",
    "          validation_data=val,\n",
    "          steps_per_epoch=130,\n",
    "          validation_steps=32)"
   ]
  },
  {
   "cell_type": "code",
   "execution_count": 168,
   "metadata": {},
   "outputs": [
    {
     "data": {
      "image/png": "[encoded data removed]",
      "text/plain": [
       "<Figure size 432x288 with 1 Axes>"
      ]
     },
     "metadata": {
      "needs_background": "light"
     },
     "output_type": "display_data"
    }
   ],
   "source": [
    "plt.plot(history.history['binary_accuracy'])\n",
    "plt.plot(history.history['val_binary_accuracy'])\n",
    "plt.title('model accuracy')\n",
    "plt.ylabel('accuracy')\n",
    "plt.xlabel('epoch')\n",
    "plt.legend(['train', 'test'], loc='upper left')\n",
    "plt.show()"
   ]
  },
  {
   "cell_type": "code",
   "execution_count": 169,
   "metadata": {},
   "outputs": [
    {
     "data": {
      "image/png": "[encoded data removed]",
      "text/plain": [
       "<Figure size 432x288 with 1 Axes>"
      ]
     },
     "metadata": {
      "needs_background": "light"
     },
     "output_type": "display_data"
    }
   ],
   "source": [
    "plt.plot(history.history['loss'])\n",
    "plt.plot(history.history['val_loss'])\n",
    "plt.title('model loss')\n",
    "plt.ylabel('loss')\n",
    "plt.xlabel('epoch')\n",
    "plt.legend(['train', 'test'], loc='upper left')\n",
    "plt.show()"
   ]
  },
  {
   "cell_type": "code",
   "execution_count": 170,
   "metadata": {},
   "outputs": [
    {
     "name": "stdout",
     "output_type": "stream",
     "text": [
      "624/624 [==============================] - 25s 37ms/step - loss: 0.2846 - binary_accuracy: 0.8846\n",
      "The testing accuracy is : 88.4615421295166 %\n"
     ]
    }
   ],
   "source": [
    "test_accu = classifier.evaluate(test_set)\n",
    "print('The testing accuracy is :',test_accu[1]*100, '%')"
   ]
  },
  {
   "cell_type": "code",
   "execution_count": 181,
   "metadata": {},
   "outputs": [
    {
     "name": "stdout",
     "output_type": "stream",
     "text": [
      "The testing accuracy loss : 0.2846226096153259\n"
     ]
    }
   ],
   "source": [
    "print('The testing accuracy loss :',test_accu[0])"
   ]
  },
  {
   "cell_type": "code",
   "execution_count": 172,
   "metadata": {},
   "outputs": [
    {
     "name": "stdout",
     "output_type": "stream",
     "text": [
      "Test Accuracy:  0.8846153846153846\n"
     ]
    }
   ],
   "source": [
    "from sklearn.metrics import accuracy_score\n",
    "test_set.reset()\n",
    "Y_test = test_set.classes\n",
    "predictions = classifier.predict(test_set)\n",
    "pred_labels= np.where(predictions>0.5, 1, 0)\n",
    "\n",
    "print(\"Test Accuracy: \", accuracy_score(Y_test, pred_labels.flatten()))"
   ]
  },
  {
   "cell_type": "code",
   "execution_count": 173,
   "metadata": {},
   "outputs": [],
   "source": [
    "class_names = test_set.class_indices.keys()\n",
    "\n",
    "from sklearn.metrics import confusion_matrix\n",
    "import itertools\n",
    "import matplotlib.pyplot as plt\n",
    "    \n",
    "# compute confusion matrix\n",
    "cnf_matrix = confusion_matrix(y_test, pred_labels)"
   ]
  },
  {
   "cell_type": "code",
   "execution_count": 188,
   "metadata": {},
   "outputs": [
    {
     "data": {
      "text/plain": [
       "array([0, 0, 0, 0, 0, 0, 1, 0, 0, 0, 0, 0, 0, 1, 1, 1, 0, 0, 0, 0, 1, 1,\n",
       "       1, 0, 0, 0, 0, 0, 0, 0, 0, 0, 0, 0, 0, 0, 1, 1, 0, 0, 0, 0, 1, 1,\n",
       "       0, 1, 1, 0, 0, 0, 0, 0, 0, 0, 1, 0, 1, 1, 0, 0, 0, 0, 1, 1, 1, 0,\n",
       "       1, 0, 0, 0, 1, 0, 0, 1, 0, 0, 0, 0, 1, 0, 0, 0, 0, 0, 0, 1, 0, 0,\n",
       "       0, 1, 0, 0, 1, 0, 1, 0, 0, 1, 0, 0, 0, 0, 0, 1, 0, 0, 0, 0, 0, 0,\n",
       "       0, 1, 0, 1, 1, 0, 0, 0, 0, 0, 1, 0, 0, 0, 0, 1, 0, 1, 0, 0, 0, 1,\n",
       "       0, 0, 1, 0, 0, 0, 0, 0, 0, 1, 0, 0, 0, 0, 1, 0, 0, 0, 0, 1, 1, 1,\n",
       "       1, 0, 0, 0, 0, 1, 1, 0, 0, 0, 1, 1, 0, 1, 0, 0, 1, 0, 0, 0, 1, 1,\n",
       "       0, 0, 1, 0, 0, 0, 0, 0, 1, 0, 0, 1, 1, 1, 0, 0, 1, 0, 0, 0, 0, 0,\n",
       "       1, 0, 0, 1, 0, 0, 0, 0, 1, 0, 0, 0, 0, 0, 0, 1, 0, 0, 0, 1, 0, 0,\n",
       "       0, 0, 1, 1, 0, 0, 0, 0, 0, 0, 0, 0, 0, 0, 1, 1, 1, 1, 1, 1, 1, 1,\n",
       "       1, 1, 1, 1, 0, 1, 1, 1, 1, 1, 1, 1, 1, 1, 1, 1, 1, 1, 1, 0, 1, 1,\n",
       "       1, 1, 1, 1, 1, 1, 1, 1, 1, 1, 1, 1, 1, 1, 1, 1, 1, 1, 1, 1, 1, 1,\n",
       "       1, 1, 1, 1, 1, 1, 1, 1, 1, 1, 1, 1, 1, 1, 1, 1, 1, 1, 1, 1, 1, 1,\n",
       "       1, 1, 1, 1, 1, 1, 1, 1, 1, 1, 1, 1, 1, 1, 1, 1, 1, 1, 1, 1, 1, 1,\n",
       "       1, 1, 1, 1, 1, 1, 1, 1, 1, 1, 1, 1, 1, 1, 1, 1, 1, 1, 1, 1, 1, 1,\n",
       "       1, 1, 1, 1, 1, 1, 1, 0, 1, 1, 1, 1, 1, 1, 1, 1, 1, 1, 0, 1, 1, 1,\n",
       "       1, 1, 1, 1, 1, 1, 1, 1, 1, 1, 1, 1, 1, 1, 1, 1, 1, 1, 1, 1, 1, 1,\n",
       "       1, 1, 1, 1, 1, 1, 1, 1, 1, 1, 1, 1, 1, 1, 1, 1, 1, 1, 1, 1, 1, 1,\n",
       "       1, 0, 1, 1, 1, 1, 1, 1, 1, 1, 1, 1, 1, 1, 1, 1, 1, 1, 1, 1, 1, 1,\n",
       "       1, 1, 1, 1, 1, 1, 1, 1, 1, 1, 1, 1, 1, 1, 1, 1, 1, 1, 1, 1, 1, 1,\n",
       "       0, 1, 1, 1, 1, 1, 1, 1, 1, 1, 1, 1, 1, 1, 1, 1, 1, 1, 1, 1, 1, 1,\n",
       "       1, 1, 1, 1, 1, 1, 1, 1, 1, 1, 1, 1, 1, 1, 1, 1, 1, 1, 1, 1, 1, 1,\n",
       "       1, 1, 1, 1, 1, 1, 1, 1, 1, 1, 1, 1, 1, 1, 1, 1, 1, 1, 1, 1, 1, 1,\n",
       "       1, 0, 1, 1, 1, 1, 1, 1, 1, 1, 1, 1, 1, 1, 1, 1, 1, 1, 1, 1, 1, 1,\n",
       "       1, 1, 1, 1, 1, 1, 1, 1, 1, 1, 1, 1, 1, 1, 1, 1, 1, 1, 1, 1, 1, 1,\n",
       "       1, 1, 1, 1, 1, 1, 1, 1, 1, 1, 1, 1, 1, 1, 1, 1, 1, 0, 1, 1, 1, 1,\n",
       "       1, 1, 1, 1, 1, 1, 1, 1, 1, 1, 1, 1, 1, 1, 1, 1, 1, 1, 1, 1, 1, 1,\n",
       "       1, 1, 1, 1, 1, 1, 1, 1])"
      ]
     },
     "execution_count": 188,
     "metadata": {},
     "output_type": "execute_result"
    }
   ],
   "source": [
    "pred_labels.flatten()"
   ]
  },
  {
   "cell_type": "code",
   "execution_count": 174,
   "metadata": {},
   "outputs": [
    {
     "data": {
      "text/plain": [
       "dict_keys(['NORMAL', 'PNEUMONIA'])"
      ]
     },
     "execution_count": 174,
     "metadata": {},
     "output_type": "execute_result"
    }
   ],
   "source": [
    "class_names"
   ]
  },
  {
   "cell_type": "code",
   "execution_count": 175,
   "metadata": {},
   "outputs": [
    {
     "data": {
      "text/plain": [
       "array([[170,  64],\n",
       "       [  8, 382]])"
      ]
     },
     "execution_count": 175,
     "metadata": {},
     "output_type": "execute_result"
    }
   ],
   "source": [
    "cnf_matrix"
   ]
  },
  {
   "cell_type": "code",
   "execution_count": 202,
   "metadata": {},
   "outputs": [
    {
     "data": {
      "text/plain": [
       "<AxesSubplot:>"
      ]
     },
     "execution_count": 202,
     "metadata": {},
     "output_type": "execute_result"
    },
    {
     "data": {
      "image/png": "[encoded data removed]",
      "text/plain": [
       "<Figure size 432x288 with 2 Axes>"
      ]
     },
     "metadata": {
      "needs_background": "light"
     },
     "output_type": "display_data"
    }
   ],
   "source": [
    "import seaborn\n",
    "seaborn.heatmap(cnf_matrix, annot=True, cmap='Blues')"
   ]
  },
  {
   "cell_type": "code",
   "execution_count": 217,
   "metadata": {},
   "outputs": [
    {
     "name": "stdout",
     "output_type": "stream",
     "text": [
      "True Positive Rate: 98.0 %.\n",
      "True Negative Rate: 73.0 %.\n",
      "False Positive Rate: 2.0 %.\n",
      "False Negative Rate: 27.0 %.\n"
     ]
    }
   ],
   "source": [
    "print('True Positive Rate:', round(cnf_matrix[1][1]/(cnf_matrix[1][1]+cnf_matrix[1][0]), 2)*100, \"%.\")\n",
    "print('True Negative Rate:', round(cnf_matrix[0][0]/(cnf_matrix[0][0]+cnf_matrix[0][1]), 2)*100, \"%.\")\n",
    "print('False Positive Rate:', round(cnf_matrix[1][0]/(cnf_matrix[1][1]+cnf_matrix[1][0]), 2)*100, \"%.\")\n",
    "print('False Negative Rate:', round(cnf_matrix[0][1]/(cnf_matrix[0][0]+cnf_matrix[0][1]), 2)*100, \"%.\")"
   ]
  },
  {
   "cell_type": "code",
   "execution_count": 178,
   "metadata": {},
   "outputs": [
    {
     "data": {
      "image/png": "[encoded data removed]",
      "text/plain": [
       "<Figure size 720x720 with 2 Axes>"
      ]
     },
     "metadata": {
      "needs_background": "light"
     },
     "output_type": "display_data"
    }
   ],
   "source": [
    "plot_confusion_matrix(cnf_matrix, class_names)  \n",
    "plt.show()"
   ]
  },
  {
   "cell_type": "code",
   "execution_count": null,
   "metadata": {},
   "outputs": [],
   "source": []
  }
 ],
 "metadata": {
  "kernelspec": {
   "display_name": "Python 3",
   "language": "python",
   "name": "python3"
  },
  "language_info": {
   "codemirror_mode": {
    "name": "ipython",
    "version": 3
   },
   "file_extension": ".py",
   "mimetype": "text/x-python",
   "name": "python",
   "nbconvert_exporter": "python",
   "pygments_lexer": "ipython3",
   "version": "3.9.12"
  }
 },
 "nbformat": 4,
 "nbformat_minor": 2
}
